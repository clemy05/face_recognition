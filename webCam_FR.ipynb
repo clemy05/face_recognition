{
 "cells": [
  {
   "cell_type": "code",
   "execution_count": 1,
   "id": "0dc8b204",
   "metadata": {},
   "outputs": [],
   "source": [
    "import cv2\n",
    "import face_recognition\n",
    "import os\n",
    "import glob\n",
    "\n",
    "vc = cv2.VideoCapture(0)\n",
    "\n",
    "known_faces = []\n",
    "known_names = []\n",
    "known_faces_paths = []\n",
    "\n",
    "registered_faces_path = 'registered/'\n",
    "for name in os.listdir(registered_faces_path):\n",
    "    images_mask = '%s%s/*.jpg' % (registered_faces_path, name)\n",
    "    images_paths = glob.glob(images_mask) \n",
    "    known_faces_paths += images_paths\n",
    "    known_names += [name for x in images_paths]\n",
    "\n",
    "def get_encodings(img_path):\n",
    "    image = face_recognition.load_image_file(img_path)\n",
    "    encoding = face_recognition.face_encodings(image)\n",
    "    return encoding[0]\n",
    "\n",
    "known_faces = [get_encodings(img_path) for img_path in known_faces_paths]\n",
    "\n",
    "\n",
    "while True:\n",
    "    ret, frame = vc.read()\n",
    "    if not ret:\n",
    "        break\n",
    "    frame_rgb = cv2.cvtColor(frame, cv2.COLOR_BGR2RGB)\n",
    "    faces = face_recognition.face_locations(frame_rgb)\n",
    "    for face in faces: # top, right, bottom, left\n",
    "        top, right, bottom, left = face\n",
    "        cv2.rectangle(frame, (left, top), (right, bottom),(0,0,255), 2)\n",
    "        face_code = face_recognition.face_encodings(frame_rgb, [face])[0]\n",
    "\n",
    "        results = face_recognition.compare_faces(known_faces, face_code, tolerance=0.4)\n",
    "        if any(results):\n",
    "            name = known_names[results.index(True)]\n",
    "        else:\n",
    "            name = 'unknown'\n",
    "        cv2.putText(frame, name, (left, bottom + 20), cv2.FONT_HERSHEY_PLAIN, 2, (0,0,255), 2)\n",
    "\n",
    "    cv2.imshow('Clementine', frame)\n",
    "    k = cv2.waitKey(1)\n",
    "    if ord('q') == k:\n",
    "        break\n",
    "cv2.destroyAllWindows()\n",
    "vc.release()"
   ]
  },
  {
   "cell_type": "code",
   "execution_count": null,
   "id": "d4eff4fa",
   "metadata": {},
   "outputs": [],
   "source": []
  },
  {
   "cell_type": "code",
   "execution_count": null,
   "id": "e9c5a1c7",
   "metadata": {},
   "outputs": [],
   "source": []
  }
 ],
 "metadata": {
  "kernelspec": {
   "display_name": "Python 3",
   "language": "python",
   "name": "python3"
  },
  "language_info": {
   "codemirror_mode": {
    "name": "ipython",
    "version": 3
   },
   "file_extension": ".py",
   "mimetype": "text/x-python",
   "name": "python",
   "nbconvert_exporter": "python",
   "pygments_lexer": "ipython3",
   "version": "3.8.8"
  }
 },
 "nbformat": 4,
 "nbformat_minor": 5
}
